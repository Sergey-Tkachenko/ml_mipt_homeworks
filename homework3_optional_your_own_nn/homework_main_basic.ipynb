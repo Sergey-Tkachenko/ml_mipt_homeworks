{
  "nbformat": 4,
  "nbformat_minor": 0,
  "metadata": {
    "colab": {
      "name": "homework_main_basic.ipynb",
      "provenance": [],
      "collapsed_sections": [],
      "toc_visible": true,
      "include_colab_link": true
    },
    "kernelspec": {
      "display_name": "Python 3",
      "language": "python",
      "name": "python3"
    },
    "language_info": {
      "codemirror_mode": {
        "name": "ipython",
        "version": 3
      },
      "file_extension": ".py",
      "mimetype": "text/x-python",
      "name": "python",
      "nbconvert_exporter": "python",
      "pygments_lexer": "ipython3",
      "version": "3.7.3"
    },
    "latex_envs": {
      "LaTeX_envs_menu_present": true,
      "autoclose": false,
      "autocomplete": true,
      "bibliofile": "biblio.bib",
      "cite_by": "apalike",
      "current_citInitial": 1,
      "eqLabelWithNumbers": true,
      "eqNumInitial": 1,
      "hotkeys": {
        "equation": "Ctrl-E",
        "itemize": "Ctrl-I"
      },
      "labels_anchors": false,
      "latex_user_defs": false,
      "report_style_numbering": false,
      "user_envs_cfg": false
    }
  },
  "cells": [
    {
      "cell_type": "markdown",
      "metadata": {
        "id": "view-in-github",
        "colab_type": "text"
      },
      "source": [
        "<a href=\"https://colab.research.google.com/github/Sergey-Tkachenko/ml_mipt_homeworks/blob/master/homework3_optional_your_own_nn/homework_main_basic.ipynb\" target=\"_parent\"><img src=\"https://colab.research.google.com/assets/colab-badge.svg\" alt=\"Open In Colab\"/></a>"
      ]
    },
    {
      "cell_type": "markdown",
      "metadata": {
        "colab_type": "text",
        "id": "noA4PWhWkLEj"
      },
      "source": [
        "# Homework: Basic Artificial Neural Networks"
      ]
    },
    {
      "cell_type": "markdown",
      "metadata": {
        "colab_type": "text",
        "id": "JIt0cXzhkLEp"
      },
      "source": [
        "The goal of this homework is simple, yet an actual implementation may take some time :). We are going to write an Artificial Neural Network (almost) from scratch. The software design was heavily inspired by [PyTorch](http://pytorch.org) which is the main framework of our course "
      ]
    },
    {
      "cell_type": "markdown",
      "metadata": {
        "colab_type": "text",
        "id": "7STwjthJkLEs"
      },
      "source": [
        "This homework requires sending **multiple** files, please do not forget to include all the files when sending to TA. The list of files:\n",
        "- This notebook\n",
        "- homework_modules.ipynb with all blocks implemented (except maybe `Conv2d` and `MaxPool2d` layers implementation which are part of 'advanced' version of this homework)\n",
        "- homework_differentiation.ipynb"
      ]
    },
    {
      "cell_type": "code",
      "metadata": {
        "colab_type": "code",
        "id": "IebkL8U8kLEu",
        "colab": {}
      },
      "source": [
        "%matplotlib inline\n",
        "from time import time, sleep\n",
        "import numpy as np\n",
        "import matplotlib.pyplot as plt\n",
        "from IPython import display"
      ],
      "execution_count": 0,
      "outputs": []
    },
    {
      "cell_type": "markdown",
      "metadata": {
        "colab_type": "text",
        "id": "dBikieyCkLE5"
      },
      "source": [
        "# Framework"
      ]
    },
    {
      "cell_type": "markdown",
      "metadata": {
        "colab_type": "text",
        "id": "q8Yb-zhtkLE8"
      },
      "source": [
        "Implement everything in `Modules.ipynb`. Read all the comments thoughtfully to ease the pain. Please try not to change the prototypes.\n",
        "\n",
        "Do not forget, that each module should return **AND** store `output` and `gradInput`.\n",
        "\n",
        "The typical assumption is that `module.backward` is always executed after `module.forward`,\n",
        "so `output` is stored, this would be useful for `SoftMax`. "
      ]
    },
    {
      "cell_type": "markdown",
      "metadata": {
        "colab_type": "text",
        "id": "d7kAzcFOkLE-"
      },
      "source": [
        "### Tech note\n",
        "Prefer using `np.multiply`, `np.add`, `np.divide`, `np.subtract` instead of `*`,`+`,`/`,`-` for better memory handling.\n",
        "\n",
        "Example: suppose you allocated a variable \n",
        "\n",
        "```\n",
        "a = np.zeros(...)\n",
        "```\n",
        "So, instead of\n",
        "```\n",
        "a = b + c  # will be reallocated, GC needed to free\n",
        "``` \n",
        "You can use: \n",
        "```\n",
        "np.add(b,c,out = a) # puts result in `a`\n",
        "```"
      ]
    },
    {
      "cell_type": "code",
      "metadata": {
        "colab_type": "code",
        "id": "UiRTDA5vkLFB",
        "colab": {}
      },
      "source": [
        "# (re-)load layers\n",
        "%run homework_modules.ipynb"
      ],
      "execution_count": 0,
      "outputs": []
    },
    {
      "cell_type": "markdown",
      "metadata": {
        "colab_type": "text",
        "id": "LyV9f9_nkLFJ"
      },
      "source": [
        "# Toy example"
      ]
    },
    {
      "cell_type": "markdown",
      "metadata": {
        "colab_type": "text",
        "id": "jmJhfu3NkLFM"
      },
      "source": [
        "Use this example to debug your code, start with logistic regression and then test other layers. You do not need to change anything here. This code is provided for you to test the layers. Also it is easy to use this code in MNIST task."
      ]
    },
    {
      "cell_type": "code",
      "metadata": {
        "colab_type": "code",
        "id": "pp_wBssRkLFO",
        "outputId": "529a6a8a-ce08-4439-a353-9f1d511eb21b",
        "scrolled": false,
        "colab": {
          "base_uri": "https://localhost:8080/",
          "height": 282
        }
      },
      "source": [
        "# Generate some data\n",
        "N = 500\n",
        "\n",
        "X1 = np.random.randn(N,2) + np.array([2,2])\n",
        "X2 = np.random.randn(N,2) + np.array([-2,-2])\n",
        "\n",
        "Y = np.concatenate([np.ones(N),np.zeros(N)])[:,None]\n",
        "Y = np.hstack([Y, 1-Y])\n",
        "\n",
        "X = np.vstack([X1,X2])\n",
        "plt.scatter(X[:,0],X[:,1], c = Y[:,0], edgecolors= 'none')"
      ],
      "execution_count": 0,
      "outputs": [
        {
          "output_type": "execute_result",
          "data": {
            "text/plain": [
              "<matplotlib.collections.PathCollection at 0x7f11e9cc2c18>"
            ]
          },
          "metadata": {
            "tags": []
          },
          "execution_count": 6
        },
        {
          "output_type": "display_data",
          "data": {
            "image/png": "[encoded data removed]",
            "text/plain": [
              "<Figure size 432x288 with 1 Axes>"
            ]
          },
          "metadata": {
            "tags": []
          }
        }
      ]
    },
    {
      "cell_type": "markdown",
      "metadata": {
        "colab_type": "text",
        "id": "-VEdjYq5kLFa"
      },
      "source": [
        "Define a **logistic regression** for debugging. "
      ]
    },
    {
      "cell_type": "code",
      "metadata": {
        "colab_type": "code",
        "id": "GJPqPLIpkLFd",
        "colab": {}
      },
      "source": [
        "#net = Sequential()\n",
        "#net.add(Linear(2, 2))\n",
        "#net.add(LogSoftMax())\n",
        "\n",
        "criterion = ClassNLLCriterion()\n",
        "\n",
        "#print(net)\n",
        "\n",
        "# Test something like that then \n",
        "\n",
        "net = Sequential()\n",
        "net.add(Linear(2, 4))\n",
        "net.add(ReLU())\n",
        "net.add(Linear(4, 2))\n",
        "net.add(LogSoftMax())"
      ],
      "execution_count": 0,
      "outputs": []
    },
    {
      "cell_type": "markdown",
      "metadata": {
        "colab_type": "text",
        "id": "PCfn_RFakLFl"
      },
      "source": [
        "Start with batch_size = 1000 to make sure every step lowers the loss, then try stochastic version."
      ]
    },
    {
      "cell_type": "code",
      "metadata": {
        "colab_type": "code",
        "id": "NkVYPoJfkLFo",
        "colab": {}
      },
      "source": [
        "# Iptimizer params\n",
        "optimizer_config = {'learning_rate' : 1e-2, 'momentum': 0.9}\n",
        "optimizer_state = {}\n",
        "\n",
        "# Looping params\n",
        "n_epoch = 1000\n",
        "batch_size = 100"
      ],
      "execution_count": 0,
      "outputs": []
    },
    {
      "cell_type": "code",
      "metadata": {
        "colab_type": "code",
        "id": "DZ9aE15pkLFu",
        "colab": {}
      },
      "source": [
        "# batch generator\n",
        "def get_batches(dataset, batch_size):\n",
        "    X, Y = dataset\n",
        "    n_samples = X.shape[0]\n",
        "        \n",
        "    # Shuffle at the start of epoch\n",
        "    indices = np.arange(n_samples)\n",
        "    np.random.shuffle(indices)\n",
        "    \n",
        "    for start in range(0, n_samples, batch_size):\n",
        "        end = min(start + batch_size, n_samples)\n",
        "        \n",
        "        batch_idx = indices[start:end]\n",
        "    \n",
        "        yield X[batch_idx], Y[batch_idx]"
      ],
      "execution_count": 0,
      "outputs": []
    },
    {
      "cell_type": "markdown",
      "metadata": {
        "colab_type": "text",
        "id": "0sdv_H-VkLF3"
      },
      "source": [
        "### Train"
      ]
    },
    {
      "cell_type": "markdown",
      "metadata": {
        "colab_type": "text",
        "id": "3IgDGdeUkLF6"
      },
      "source": [
        "Basic training loop. Examine it."
      ]
    },
    {
      "cell_type": "code",
      "metadata": {
        "colab_type": "code",
        "id": "_3fBL8dTkLF9",
        "outputId": "01edd824-3788-4dd8-afa5-dd9cfb749fbb",
        "scrolled": false,
        "colab": {
          "base_uri": "https://localhost:8080/",
          "height": 421
        }
      },
      "source": [
        "loss_history = []\n",
        "import time\n",
        "\n",
        "with open(\"log.txt\", 'w') as l:\n",
        "            l.writelines('-')\n",
        "        \n",
        "for i in range(n_epoch):\n",
        "    for x_batch, y_batch in get_batches((X, Y), batch_size):\n",
        "        \n",
        "        net.zeroGradParameters()\n",
        "        \n",
        "        # Forward\n",
        "        predictions = net.forward(x_batch)\n",
        "        #print(predictions)\n",
        "        loss = criterion.forward(predictions, y_batch)\n",
        "\n",
        "        # Backward\n",
        "        dp = criterion.backward(predictions, y_batch)\n",
        "        net.backward(x_batch, dp)\n",
        "        #time.sleep(10)\n",
        "\n",
        "        # Update weights\n",
        "        sgd_momentum(net.getParameters(), \n",
        "                     net.getGradParameters(), \n",
        "                     optimizer_config,\n",
        "                     optimizer_state)      \n",
        "        \n",
        "        loss_history.append(loss)\n",
        "\n",
        "    # Visualize\n",
        "    display.clear_output(wait=True)\n",
        "    plt.figure(figsize=(8, 6))\n",
        "        \n",
        "    plt.title(\"Training loss\")\n",
        "    plt.xlabel(\"#iteration\")\n",
        "    plt.ylabel(\"loss\")\n",
        "    plt.plot(loss_history, 'b')\n",
        "    plt.show()\n",
        "    \n",
        "    print('Current loss: %f' % loss)   \n",
        "#state = {} \n",
        "#old = net.getParameters()\n",
        "#train_adam(net, criterion, 100, 1000, adam_config, X, Y, \"small net adam\", state)\n",
        "#new_p = net.getGradParameters()\n",
        "#print(old,\"================\", new_p)"
      ],
      "execution_count": 0,
      "outputs": [
        {
          "output_type": "display_data",
          "data": {
            "image/png": "[encoded data removed]",
            "text/plain": [
              "<Figure size 576x432 with 1 Axes>"
            ]
          },
          "metadata": {
            "tags": []
          }
        },
        {
          "output_type": "stream",
          "text": [
            "Current loss: 0.000555\n"
          ],
          "name": "stdout"
        }
      ]
    },
    {
      "cell_type": "markdown",
      "metadata": {
        "colab_type": "text",
        "id": "1x4Qx9wTkLGK"
      },
      "source": [
        "# Digit classification "
      ]
    },
    {
      "cell_type": "markdown",
      "metadata": {
        "colab_type": "text",
        "id": "WbJz1dq1kLGM"
      },
      "source": [
        "We are using old good [MNIST](http://yann.lecun.com/exdb/mnist/) as our dataset."
      ]
    },
    {
      "cell_type": "code",
      "metadata": {
        "colab_type": "code",
        "id": "S0uC06JpkLGO",
        "outputId": "b6572086-0168-451e-9bcb-0f4f500107ea",
        "colab": {
          "base_uri": "https://localhost:8080/",
          "height": 85
        }
      },
      "source": [
        "import mnist\n",
        "X_train, y_train_raw, X_val, y_val_raw, X_test, y_test_raw = mnist.load_dataset()"
      ],
      "execution_count": 0,
      "outputs": [
        {
          "output_type": "stream",
          "text": [
            "Downloading train-images-idx3-ubyte.gz\n",
            "Downloading train-labels-idx1-ubyte.gz\n",
            "Downloading t10k-images-idx3-ubyte.gz\n",
            "Downloading t10k-labels-idx1-ubyte.gz\n"
          ],
          "name": "stdout"
        }
      ]
    },
    {
      "cell_type": "markdown",
      "metadata": {
        "colab_type": "text",
        "id": "dZ2V9rfskLGU"
      },
      "source": [
        "One-hot encode the labels first."
      ]
    },
    {
      "cell_type": "code",
      "metadata": {
        "colab_type": "code",
        "id": "WGB9aiaLkLGW",
        "colab": {}
      },
      "source": [
        "#Let's flatten X_train and other\n",
        "\n",
        "X_train = X_train.reshape(X_train.shape[0], X_train.shape[1] * X_train.shape[2])\n",
        "\n",
        "X_val = X_val.reshape(X_val.shape[0], X_val.shape[1] * X_val.shape[2])\n",
        "\n",
        "X_test = X_test.reshape(X_test.shape[0], X_test.shape[1] * X_test.shape[2])"
      ],
      "execution_count": 0,
      "outputs": []
    },
    {
      "cell_type": "code",
      "metadata": {
        "id": "orK5tk4g6MHA",
        "colab_type": "code",
        "colab": {}
      },
      "source": [
        "X_train.shape\n",
        "\n",
        "num_features = 784"
      ],
      "execution_count": 0,
      "outputs": []
    },
    {
      "cell_type": "code",
      "metadata": {
        "colab_type": "code",
        "id": "HBFWETo8kLGd",
        "colab": {}
      },
      "source": [
        "labels = np.unique(y_train_raw)"
      ],
      "execution_count": 0,
      "outputs": []
    },
    {
      "cell_type": "code",
      "metadata": {
        "colab_type": "code",
        "id": "Pzj9ioi0kLGj",
        "colab": {}
      },
      "source": [
        "#Make one hot encoding\n",
        "y_train = [y == labels for y in y_train_raw]\n",
        "y_train = np.int64(np.array(y_train))\n",
        "\n",
        "y_val = [y == labels for y in y_val_raw]\n",
        "y_val = np.int64(np.array(y_val))\n",
        "\n",
        "y_test = [y == labels for y in y_test_raw]\n",
        "y_test = np.int64(np.array(y_test))"
      ],
      "execution_count": 0,
      "outputs": []
    },
    {
      "cell_type": "markdown",
      "metadata": {
        "colab_type": "text",
        "id": "mZCWZ3mvkLGp"
      },
      "source": [
        "- **Compare** `ReLU`, `ELU`, `LeakyReLU`, `SoftPlus` activation functions. \n",
        "You would better pick the best optimizer params for each of them, but it is overkill for now. Use an architecture of your choice for the comparison.\n",
        "- **Try** inserting `BatchNormalization` (folowed by `ChannelwiseScaling`) between `Linear` module and activation functions.\n",
        "- Plot the losses both from activation functions comparison and `BatchNormalization` comparison on one plot. Please find a scale (log?) when the lines are distinguishable, do not forget about naming the axes, the plot should be goodlooking.\n",
        "- Plot the losses for two networks: one trained by momentum_sgd, another one trained by Adam. Which one performs better?\n",
        "- Hint: good logloss for MNIST should be around 0.5. "
      ]
    },
    {
      "cell_type": "code",
      "metadata": {
        "colab_type": "code",
        "id": "aU_w_irzkLGs",
        "colab": {}
      },
      "source": [
        "\n",
        "from tqdm import tqdm_notebook\n",
        "from matplotlib.animation import Animation\n",
        "#Let's chose best activation function\n",
        "#But first we need to write train function\n",
        "\n",
        "\n",
        "\n",
        "\n",
        "def train_sgd(net, loss_func, n_epoch, batch_size, optimizer_config,X_train, Y_train, graph_title):\n",
        "    loss_history = []\n",
        "    for i in range(n_epoch):\n",
        "        for x_batch, y_batch in get_batches((X_train, Y_train), batch_size):\n",
        "            net.zeroGradParameters()\n",
        "\n",
        "            pred = net.forward(x_batch)\n",
        "            loss = loss_func.forward(pred, y_batch)\n",
        "            dp = loss_func.backward(pred, y_batch)\n",
        "            net.backward(x_batch, dp)\n",
        "\n",
        "            sgd_momentum(net.getParameters(), \n",
        "                   net.getGradParameters(),\n",
        "                   optimizer_config, {})\n",
        "      \n",
        "            loss_history.append(loss)\n",
        "    \n",
        "            display.clear_output(wait=True)\n",
        "            plt.figure(figsize=(8, 6))\n",
        "        \n",
        "            plt.title(graph_title)\n",
        "            plt.xlabel(\"#iteration\")\n",
        "            plt.ylabel(\"loss\")\n",
        "            plt.plot(loss_history, 'b')\n",
        "            plt.show()\n",
        "    \n",
        "            print('Current loss: %f' % loss)    "
      ],
      "execution_count": 0,
      "outputs": []
    },
    {
      "cell_type": "code",
      "metadata": {
        "colab_type": "code",
        "id": "93ZC0vf7to1Z",
        "outputId": "783d2fab-12fe-4905-f156-39747b35604d",
        "colab": {
          "base_uri": "https://localhost:8080/",
          "height": 421
        }
      },
      "source": [
        "#Let's build first model\n",
        "optimizer_config['learning_rate'] = 5e-2\n",
        "relu_net = Sequential()\n",
        "\n",
        "relu_net.add(Linear(num_features,  num_features))\n",
        "\n",
        "relu_net.add(ReLU())\n",
        "\n",
        "relu_net.add(Linear(num_features, num_features))\n",
        "\n",
        "relu_net.add(ReLU())\n",
        "\n",
        "relu_net.add(Linear(num_features, 10))\n",
        "\n",
        "relu_net.add(LogSoftMax())\n",
        "\n",
        "train_sgd(relu_net, ClassNLLCriterion(), 15, 1000, optimizer_config,\n",
        "         X_train=X_train, Y_train=y_train, graph_title=\"ReLu\")\n"
      ],
      "execution_count": 0,
      "outputs": [
        {
          "output_type": "display_data",
          "data": {
            "image/png": "[encoded data removed]",
            "text/plain": [
              "<Figure size 576x432 with 1 Axes>"
            ]
          },
          "metadata": {
            "tags": []
          }
        },
        {
          "output_type": "stream",
          "text": [
            "Current loss: 0.287329\n"
          ],
          "name": "stdout"
        }
      ]
    },
    {
      "cell_type": "code",
      "metadata": {
        "id": "1-n1c0u9UbAg",
        "colab_type": "code",
        "outputId": "b6e8c0c1-2667-42ed-b629-4b21261fbfe5",
        "colab": {
          "base_uri": "https://localhost:8080/",
          "height": 421
        }
      },
      "source": [
        "#ELU\n",
        "optimizer_config['learning_rate'] = 5e-2\n",
        "\n",
        "elu_net = Sequential()\n",
        "elu_net.add(Linear(num_features,  num_features))\n",
        "\n",
        "elu_net.add(ELU())\n",
        "\n",
        "elu_net.add(Linear(num_features, num_features))\n",
        "\n",
        "elu_net.add(ELU())\n",
        "\n",
        "elu_net.add(Linear(num_features, 10))\n",
        "elu_net.add(LogSoftMax())\n",
        "\n",
        "train_sgd(elu_net, ClassNLLCriterion(), 20, 1000, optimizer_config,\n",
        "         X_train=X_train, Y_train=y_train, graph_title=\"ELU\")\n",
        "\n",
        "\n"
      ],
      "execution_count": 0,
      "outputs": [
        {
          "output_type": "display_data",
          "data": {
            "image/png": "[encoded data removed]",
            "text/plain": [
              "<Figure size 576x432 with 1 Axes>"
            ]
          },
          "metadata": {
            "tags": []
          }
        },
        {
          "output_type": "stream",
          "text": [
            "Current loss: 0.296349\n"
          ],
          "name": "stdout"
        }
      ]
    },
    {
      "cell_type": "code",
      "metadata": {
        "id": "izrym4pelwDK",
        "colab_type": "code",
        "outputId": "94d5b496-335e-4dfe-beb1-f7bf9cf87d35",
        "colab": {
          "base_uri": "https://localhost:8080/",
          "height": 421
        }
      },
      "source": [
        "optimizer_config['learning_rate'] = 5e-2\n",
        "\n",
        "lrelu_net = Sequential()\n",
        "lrelu_net.add(Linear(num_features,  num_features))\n",
        "\n",
        "lrelu_net.add(LeakyReLU())\n",
        "\n",
        "lrelu_net.add(Linear(num_features, num_features))\n",
        "\n",
        "lrelu_net.add(LeakyReLU())\n",
        "\n",
        "lrelu_net.add(Linear(num_features, 10))\n",
        "lrelu_net.add(LogSoftMax())\n",
        "\n",
        "train_sgd(lrelu_net, ClassNLLCriterion(), 20, 1000, optimizer_config,\n",
        "         X_train=X_train, Y_train=y_train, graph_title=\"LeakyReLU\")\n"
      ],
      "execution_count": 0,
      "outputs": [
        {
          "output_type": "display_data",
          "data": {
            "image/png": "[encoded data removed]",
            "text/plain": [
              "<Figure size 576x432 with 1 Axes>"
            ]
          },
          "metadata": {
            "tags": []
          }
        },
        {
          "output_type": "stream",
          "text": [
            "Current loss: 0.319968\n"
          ],
          "name": "stdout"
        }
      ]
    },
    {
      "cell_type": "code",
      "metadata": {
        "id": "bJr_D2CrmgjG",
        "colab_type": "code",
        "colab": {}
      },
      "source": [
        "optimizer_config['learning_rate'] = 5e-2\n",
        "\n",
        "soft_plus_net = Sequential()\n",
        "soft_plus_net.add(Linear(num_features, num_features))\n",
        "\n",
        "soft_plus_net.add(SoftPlus())\n",
        "\n",
        "soft_plus_net.add(Linear(num_features, num_features))\n",
        "\n",
        "soft_plus_net.add(SoftPlus())\n",
        "\n",
        "soft_plus_net.add(Linear(num_features, 10))\n",
        "\n",
        "soft_plus_net.add(LogSoftMax())\n",
        "\n",
        "train_sgd(soft_plus_net, ClassNLLCriterion(), 20, 1000, optimizer_config, X_train, y_train, \"Soft Plus\")\n",
        "\n"
      ],
      "execution_count": 0,
      "outputs": []
    },
    {
      "cell_type": "code",
      "metadata": {
        "id": "2nSWLbz4MBCa",
        "colab_type": "code",
        "outputId": "4461caf0-9a10-4bdb-f6f8-bbc78a7366c3",
        "colab": {
          "base_uri": "https://localhost:8080/",
          "height": 421
        }
      },
      "source": [
        "#Now let's use BatchNorm layer\n",
        "\n",
        "optimizer_config['learning_rate'] = 5e-2\n",
        "\n",
        "\n",
        "bn_net = Sequential()\n",
        "bn_net.add(Linear(num_features, num_features))\n",
        "\n",
        "bn_net.add(ReLU())\n",
        "\n",
        "bn_net.add(BatchNormalization(0.3))\n",
        "bn_net.add(ChannelwiseScaling(num_features))\n",
        "\n",
        "bn_net.add(Linear(num_features, num_features))\n",
        "\n",
        "bn_net.add(BatchNormalization(0.3))\n",
        "bn_net.add(ChannelwiseScaling(num_features))\n",
        "\n",
        "bn_net.add(Linear(num_features, 10))\n",
        "\n",
        "bn_net.add(LogSoftMax())\n",
        "\n",
        "bn_net.training = True\n",
        "\n",
        "train_sgd(bn_net, ClassNLLCriterion(), 25, 1500, optimizer_config, \n",
        "          X_train, y_train, \"Batch Norm\")\n"
      ],
      "execution_count": 0,
      "outputs": [
        {
          "output_type": "display_data",
          "data": {
            "image/png": "[encoded data removed]",
            "text/plain": [
              "<Figure size 576x432 with 1 Axes>"
            ]
          },
          "metadata": {
            "tags": []
          }
        },
        {
          "output_type": "stream",
          "text": [
            "Current loss: 0.488422\n"
          ],
          "name": "stdout"
        }
      ]
    },
    {
      "cell_type": "code",
      "metadata": {
        "colab_type": "code",
        "id": "v9bGQ08VnIWy",
        "colab": {}
      },
      "source": [
        "# (re-)load layers\n",
        "%run homework_modules.ipynb"
      ],
      "execution_count": 0,
      "outputs": []
    },
    {
      "cell_type": "code",
      "metadata": {
        "id": "I3NZxEDOZEx6",
        "colab_type": "code",
        "colab": {}
      },
      "source": [
        "# ADAM\n",
        "\n",
        "def train_adam(net, loss_func, n_epoch,\n",
        "               batch_size, optimizer_config,\n",
        "               X_train, Y_train,\n",
        "               graph_title, state={}, gradient_clipping=5):\n",
        "    loss_history = []\n",
        "    for i in range(n_epoch):\n",
        "        for x_batch, y_batch in get_batches((X_train, Y_train), batch_size):\n",
        "            net.zeroGradParameters()\n",
        "\n",
        "            pred = net.forward(x_batch)\n",
        "            loss = loss_func.forward(pred, y_batch)\n",
        "            dp = loss_func.backward(pred, y_batch)\n",
        "            net.backward(x_batch, dp)\n",
        "\n",
        "            adam_optimizer(net.getParameters(), \n",
        "                   net.getGradParameters(),\n",
        "                   optimizer_config, state, gradient_clipping=gradient_clipping)\n",
        "      \n",
        "            loss_history.append(loss)\n",
        "    \n",
        "            display.clear_output(wait=True)\n",
        "            plt.figure(figsize=(8, 6))\n",
        "        \n",
        "            plt.title(graph_title)\n",
        "            plt.xlabel(\"#iteration\")\n",
        "            plt.ylabel(\"loss\")\n",
        "            plt.plot(loss_history, 'b')\n",
        "            plt.show()\n",
        "            plt.savefig(\"plot.png\")\n",
        "            print('Current loss: %f' % loss)    \n",
        "\n"
      ],
      "execution_count": 0,
      "outputs": []
    },
    {
      "cell_type": "code",
      "metadata": {
        "id": "Azd2ShsByWG9",
        "colab_type": "code",
        "outputId": "43b3be11-b7a1-4755-8c50-fee57a2a0f5f",
        "colab": {
          "base_uri": "https://localhost:8080/",
          "height": 455
        }
      },
      "source": [
        "#Let's test it\n",
        "adam_test = Sequential()\n",
        "\n",
        "adam_test.add(Linear(num_features, num_features))\n",
        "adam_test.add(ReLU())\n",
        "adam_test.add(Linear(num_features, num_features))\n",
        "adam_test.add(ReLU())\n",
        "adam_test.add(Linear(num_features, 10))\n",
        "\n",
        "adam_test.add(LogSoftMax())\n",
        "\n",
        "state = {} #We use it just for storing gradients\n",
        "\n",
        "adam_config = {'learning_rate':5e-2, 'beta1':0.9, 'beta2':0.999, 'epsilon':1e-1}\n",
        "train_adam(adam_test, ClassNLLCriterion(), 10, 1000, \n",
        "           adam_config, X_train, y_train,\n",
        "           \"Power Adam\", state, gradient_clipping=None)\n",
        "#train_sgd(adam_test, ClassNLLCriterion(), 10, 1000, optimizer_config, X_train, y_train, \"__\")"
      ],
      "execution_count": 0,
      "outputs": [
        {
          "output_type": "display_data",
          "data": {
            "text/plain": [
              "<Figure size 432x288 with 0 Axes>"
            ]
          },
          "metadata": {
            "tags": []
          }
        },
        {
          "output_type": "display_data",
          "data": {
            "image/png": "[encoded data removed]",
            "text/plain": [
              "<Figure size 576x432 with 1 Axes>"
            ]
          },
          "metadata": {
            "tags": []
          }
        },
        {
          "output_type": "stream",
          "text": [
            "Current loss: 0.171633\n"
          ],
          "name": "stdout"
        },
        {
          "output_type": "display_data",
          "data": {
            "text/plain": [
              "<Figure size 432x288 with 0 Axes>"
            ]
          },
          "metadata": {
            "tags": []
          }
        }
      ]
    },
    {
      "cell_type": "markdown",
      "metadata": {
        "id": "v3kW7BzMrIP6",
        "colab_type": "text"
      },
      "source": [
        "So, we can see that adam fits ReLU net better(0.17 vs 0.28) than SGD."
      ]
    },
    {
      "cell_type": "markdown",
      "metadata": {
        "colab_type": "text",
        "id": "XWMXtqqekLG0"
      },
      "source": [
        "Write your personal opinion on the activation functions, think about computation times too. Does `BatchNormalization` help?"
      ]
    },
    {
      "cell_type": "markdown",
      "metadata": {
        "id": "GiZ4dZ2FrpNp",
        "colab_type": "text"
      },
      "source": [
        "1) We can see that ReLU is best variant for activation function. It's much faster for computation, and have almost same accuracy. \n",
        "\n",
        "2) As we can see on plot above, BatchNorm make reduce loss noise, and it means that our network became more stable, so yes, it help."
      ]
    },
    {
      "cell_type": "markdown",
      "metadata": {
        "colab_type": "text",
        "id": "HZYeiqh5kLG7"
      },
      "source": [
        "**Finally**, use all your knowledge to build a super cool model on this dataset. Use **dropout** to prevent overfitting, play with **learning rate decay**. You can use **data augmentation** such as rotations, translations to boost your score. Use your knowledge and imagination to train a model. Don't forget to call `training()` and `evaluate()` methods to set desired behaviour of `BatchNormalization` and `Dropout` layers."
      ]
    },
    {
      "cell_type": "code",
      "metadata": {
        "colab_type": "code",
        "id": "OMRm4b1BkLG8",
        "colab": {}
      },
      "source": [
        "#Monster net\n",
        "my_net = Sequential()\n",
        "\n",
        "#First block\n",
        "my_net.add(Linear(num_features, 2 * num_features))\n",
        "my_net.add(ReLU())\n",
        "my_net.add(BatchNormalization(alpha=0.9))\n",
        "my_net.add(Dropout(0.5))\n",
        "\n",
        "#Second block\n",
        "\n",
        "my_net.add(Linear(num_features * 2, num_features * 2))\n",
        "my_net.add(ReLU())\n",
        "my_net.add(BatchNormalization(alpha=0.9))\n",
        "my_net.add(Dropout(0.5))\n",
        "\n",
        "#Third block\n",
        "\n",
        "my_net.add(Linear(num_features * 2, num_features * 2))\n",
        "my_net.add(ReLU())\n",
        "my_net.add(BatchNormalization(alpha=0.9))\n",
        "my_net.add(Dropout(0.5))\n",
        "\n",
        "#Output\n",
        "\n",
        "my_net.add(Linear(num_features * 2, 10))\n",
        "my_net.add(LogSoftMax())\n"
      ],
      "execution_count": 0,
      "outputs": []
    },
    {
      "cell_type": "code",
      "metadata": {
        "id": "511Yasl9vvmi",
        "colab_type": "code",
        "outputId": "da0bd134-e178-4124-a130-187527b6b984",
        "colab": {
          "base_uri": "https://localhost:8080/",
          "height": 455
        }
      },
      "source": [
        "#Train\n",
        "\n",
        "adam_config = {'learning_rate':5e-2, 'beta1':0.9, 'beta2':0.999, 'epsilon':1e-1}\n",
        "state = {}\n",
        "my_net.train()\n",
        "\n",
        "train_adam(my_net, ClassNLLCriterion(), 20, 1000,\n",
        "           adam_config, X_train, y_train,\n",
        "           \"Final net\", state)\n",
        "\n"
      ],
      "execution_count": 63,
      "outputs": [
        {
          "output_type": "display_data",
          "data": {
            "text/plain": [
              "<Figure size 432x288 with 0 Axes>"
            ]
          },
          "metadata": {
            "tags": []
          }
        },
        {
          "output_type": "display_data",
          "data": {
            "image/png": "[encoded data removed]",
            "text/plain": [
              "<Figure size 576x432 with 1 Axes>"
            ]
          },
          "metadata": {
            "tags": []
          }
        },
        {
          "output_type": "stream",
          "text": [
            "Current loss: 0.048440\n"
          ],
          "name": "stdout"
        },
        {
          "output_type": "display_data",
          "data": {
            "text/plain": [
              "<Figure size 432x288 with 0 Axes>"
            ]
          },
          "metadata": {
            "tags": []
          }
        }
      ]
    },
    {
      "cell_type": "markdown",
      "metadata": {
        "colab_type": "text",
        "id": "OG2MdJmLkLHF"
      },
      "source": [
        "Print here your accuracy on test set. It should be around 90%."
      ]
    },
    {
      "cell_type": "code",
      "metadata": {
        "colab_type": "code",
        "id": "cAYcle71kLHH",
        "outputId": "d33d458a-c561-4c75-db6c-923193c5dde6",
        "colab": {
          "base_uri": "https://localhost:8080/",
          "height": 34
        }
      },
      "source": [
        "# Your answer goes here. ################################################\n",
        "my_net.evaluate()\n",
        "\n",
        "from sklearn.metrics import accuracy_score\n",
        "\n",
        "accuracy_score(y_test_raw, np.argmax(my_net.forward(X_test), axis=1))\n"
      ],
      "execution_count": 64,
      "outputs": [
        {
          "output_type": "execute_result",
          "data": {
            "text/plain": [
              "0.9811"
            ]
          },
          "metadata": {
            "tags": []
          },
          "execution_count": 64
        }
      ]
    },
    {
      "cell_type": "code",
      "metadata": {
        "id": "SG3hEMNf3Lnw",
        "colab_type": "code",
        "colab": {}
      },
      "source": [
        ""
      ],
      "execution_count": 0,
      "outputs": []
    }
  ]
}